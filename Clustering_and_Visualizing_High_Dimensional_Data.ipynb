{
 "cells": [
  {
   "cell_type": "markdown",
   "metadata": {},
   "source": [
    "# Clustering and Visualizing High Dimensional Data "
   ]
  },
  {
   "cell_type": "markdown",
   "metadata": {},
   "source": [
    "## Dataset"
   ]
  },
  {
   "cell_type": "markdown",
   "metadata": {},
   "source": [
    "**Title:** Forest Cover Type Dataset \n",
    "\n",
    "**Description:** Tree types found in the Roosevelt National Forest in Colorado\n",
    "\n",
    "**Context:** This dataset contains tree observations from four areas of the Roosevelt National Forest in Colorado. All observations are cartographic variables (no remote sensing) from 30 meter x 30 meter sections of forest. There are over half a million measurements total).\n",
    "\n",
    "**Content:** This dataset includes information on tree type, shadow coverage, distance to nearby landmarks (roads etcetera), soil type, and local topography. \n",
    "\n",
    "**Acknowledgement:** This dataset is part of the UCI Machine Learning Repository, and the original source can be found here. The original database owners are Jock A. Blackard, Dr. Denis J. Dean, and Dr. Charles W. Anderson of the Remote Sensing and GIS Program at Colorado State University.\n",
    "\n",
    "**URL:** https://www.kaggle.com/uciml/forest-cover-type-dataset"
   ]
  },
  {
   "cell_type": "markdown",
   "metadata": {},
   "source": [
    "## Implementation"
   ]
  },
  {
   "cell_type": "markdown",
   "metadata": {},
   "source": [
    "First we need to import all the necessary libraries"
   ]
  },
  {
   "cell_type": "code",
   "execution_count": 49,
   "metadata": {},
   "outputs": [],
   "source": [
    "#Basic imports\n",
    "import numpy as np\n",
    "import pandas as pd\n",
    "\n",
    "#sklearn imports\n",
    "from sklearn.decomposition import PCA #Principal Component Analysis\n",
    "from sklearn.manifold import TSNE #T-Distributed Stochastic Neighbor Embedding\n",
    "from sklearn.cluster import KMeans #K-Means Clustering\n",
    "from sklearn.preprocessing import StandardScaler #used for 'Feature Scaling'\n",
    "from sklearn.metrics import silhouette_score\n",
    "\n",
    "#metric visualizer imports\n",
    "from yellowbrick.cluster import SilhouetteVisualizer\n",
    "\n",
    "#plotly imports\n",
    "import plotly as py\n",
    "import plotly.graph_objs as go\n",
    "from plotly.offline import download_plotlyjs, init_notebook_mode, plot, iplot"
   ]
  },
  {
   "cell_type": "markdown",
   "metadata": {},
   "source": [
    "### Configuration Constants"
   ]
  },
  {
   "cell_type": "code",
   "execution_count": 125,
   "metadata": {},
   "outputs": [],
   "source": [
    "RAND_SAMPLE_SIZE = 1000\n",
    "RAND_SAMPLE_SIZE_PCA = 10000\n",
    "RAND_SAMPLE_SIZE_TSNE = 1000"
   ]
  },
  {
   "cell_type": "markdown",
   "metadata": {},
   "source": [
    "Now, let's import the dataset"
   ]
  },
  {
   "cell_type": "code",
   "execution_count": 51,
   "metadata": {},
   "outputs": [],
   "source": [
    "df = pd.read_csv(\"data/covtype.csv\")"
   ]
  },
  {
   "cell_type": "markdown",
   "metadata": {},
   "source": [
    "Before proceeding, we have to make a clone of the dataframe. Then we need to check whether if there are any missing values as follows.\n",
    "\n",
    "#### Preprocessing"
   ]
  },
  {
   "cell_type": "code",
   "execution_count": 52,
   "metadata": {},
   "outputs": [
    {
     "data": {
      "text/plain": [
       "Elevation                             0\n",
       "Aspect                                0\n",
       "Slope                                 0\n",
       "Horizontal_Distance_To_Hydrology      0\n",
       "Vertical_Distance_To_Hydrology        0\n",
       "Horizontal_Distance_To_Roadways       0\n",
       "Hillshade_9am                         0\n",
       "Hillshade_Noon                        0\n",
       "Hillshade_3pm                         0\n",
       "Horizontal_Distance_To_Fire_Points    0\n",
       "Wilderness_Area1                      0\n",
       "Wilderness_Area2                      0\n",
       "Wilderness_Area3                      0\n",
       "Wilderness_Area4                      0\n",
       "Soil_Type1                            0\n",
       "Soil_Type2                            0\n",
       "Soil_Type3                            0\n",
       "Soil_Type4                            0\n",
       "Soil_Type5                            0\n",
       "Soil_Type6                            0\n",
       "Soil_Type7                            0\n",
       "Soil_Type8                            0\n",
       "Soil_Type9                            0\n",
       "Soil_Type10                           0\n",
       "Soil_Type11                           0\n",
       "Soil_Type12                           0\n",
       "Soil_Type13                           0\n",
       "Soil_Type14                           0\n",
       "Soil_Type15                           0\n",
       "Soil_Type16                           0\n",
       "Soil_Type17                           0\n",
       "Soil_Type18                           0\n",
       "Soil_Type19                           0\n",
       "Soil_Type20                           0\n",
       "Soil_Type21                           0\n",
       "Soil_Type22                           0\n",
       "Soil_Type23                           0\n",
       "Soil_Type24                           0\n",
       "Soil_Type25                           0\n",
       "Soil_Type26                           0\n",
       "Soil_Type27                           0\n",
       "Soil_Type28                           0\n",
       "Soil_Type29                           0\n",
       "Soil_Type30                           0\n",
       "Soil_Type31                           0\n",
       "Soil_Type32                           0\n",
       "Soil_Type33                           0\n",
       "Soil_Type34                           0\n",
       "Soil_Type35                           0\n",
       "Soil_Type36                           0\n",
       "Soil_Type37                           0\n",
       "Soil_Type38                           0\n",
       "Soil_Type39                           0\n",
       "Soil_Type40                           0\n",
       "Cover_Type                            0\n",
       "dtype: int64"
      ]
     },
     "execution_count": 52,
     "metadata": {},
     "output_type": "execute_result"
    }
   ],
   "source": [
    "X = df.copy()\n",
    "X.isnull().sum()"
   ]
  },
  {
   "cell_type": "markdown",
   "metadata": {},
   "source": [
    "Since there are no missing values, we can proceed examine the dataset a bit.\n",
    "\n",
    "There are 581,012 entries and 55 attributes. Among them, 10 are numerical and 45 is categorical. The categorical variable 'Cover_Type' is currently assigned with integers which represents the following cover types according to https://archive.ics.uci.edu/ml/datasets/Covertype\n",
    "    1. Spruce/Fir\n",
    "    2. Lodgepole Pine\n",
    "    3. Ponderosa Pine\n",
    "    4. Cottonwood/Willow\n",
    "    5. Aspen\n",
    "    6. Douglas-fir\n",
    "    7. Krummholz"
   ]
  },
  {
   "cell_type": "code",
   "execution_count": 53,
   "metadata": {},
   "outputs": [
    {
     "data": {
      "text/html": [
       "<div>\n",
       "<style scoped>\n",
       "    .dataframe tbody tr th:only-of-type {\n",
       "        vertical-align: middle;\n",
       "    }\n",
       "\n",
       "    .dataframe tbody tr th {\n",
       "        vertical-align: top;\n",
       "    }\n",
       "\n",
       "    .dataframe thead th {\n",
       "        text-align: right;\n",
       "    }\n",
       "</style>\n",
       "<table border=\"1\" class=\"dataframe\">\n",
       "  <thead>\n",
       "    <tr style=\"text-align: right;\">\n",
       "      <th></th>\n",
       "      <th>Elevation</th>\n",
       "      <th>Aspect</th>\n",
       "      <th>Slope</th>\n",
       "      <th>Horizontal_Distance_To_Hydrology</th>\n",
       "      <th>Vertical_Distance_To_Hydrology</th>\n",
       "      <th>Horizontal_Distance_To_Roadways</th>\n",
       "      <th>Hillshade_9am</th>\n",
       "      <th>Hillshade_Noon</th>\n",
       "      <th>Hillshade_3pm</th>\n",
       "      <th>Horizontal_Distance_To_Fire_Points</th>\n",
       "      <th>...</th>\n",
       "      <th>Soil_Type32</th>\n",
       "      <th>Soil_Type33</th>\n",
       "      <th>Soil_Type34</th>\n",
       "      <th>Soil_Type35</th>\n",
       "      <th>Soil_Type36</th>\n",
       "      <th>Soil_Type37</th>\n",
       "      <th>Soil_Type38</th>\n",
       "      <th>Soil_Type39</th>\n",
       "      <th>Soil_Type40</th>\n",
       "      <th>Cover_Type</th>\n",
       "    </tr>\n",
       "  </thead>\n",
       "  <tbody>\n",
       "    <tr>\n",
       "      <th>0</th>\n",
       "      <td>2596</td>\n",
       "      <td>51</td>\n",
       "      <td>3</td>\n",
       "      <td>258</td>\n",
       "      <td>0</td>\n",
       "      <td>510</td>\n",
       "      <td>221</td>\n",
       "      <td>232</td>\n",
       "      <td>148</td>\n",
       "      <td>6279</td>\n",
       "      <td>...</td>\n",
       "      <td>0</td>\n",
       "      <td>0</td>\n",
       "      <td>0</td>\n",
       "      <td>0</td>\n",
       "      <td>0</td>\n",
       "      <td>0</td>\n",
       "      <td>0</td>\n",
       "      <td>0</td>\n",
       "      <td>0</td>\n",
       "      <td>5</td>\n",
       "    </tr>\n",
       "    <tr>\n",
       "      <th>1</th>\n",
       "      <td>2590</td>\n",
       "      <td>56</td>\n",
       "      <td>2</td>\n",
       "      <td>212</td>\n",
       "      <td>-6</td>\n",
       "      <td>390</td>\n",
       "      <td>220</td>\n",
       "      <td>235</td>\n",
       "      <td>151</td>\n",
       "      <td>6225</td>\n",
       "      <td>...</td>\n",
       "      <td>0</td>\n",
       "      <td>0</td>\n",
       "      <td>0</td>\n",
       "      <td>0</td>\n",
       "      <td>0</td>\n",
       "      <td>0</td>\n",
       "      <td>0</td>\n",
       "      <td>0</td>\n",
       "      <td>0</td>\n",
       "      <td>5</td>\n",
       "    </tr>\n",
       "    <tr>\n",
       "      <th>2</th>\n",
       "      <td>2804</td>\n",
       "      <td>139</td>\n",
       "      <td>9</td>\n",
       "      <td>268</td>\n",
       "      <td>65</td>\n",
       "      <td>3180</td>\n",
       "      <td>234</td>\n",
       "      <td>238</td>\n",
       "      <td>135</td>\n",
       "      <td>6121</td>\n",
       "      <td>...</td>\n",
       "      <td>0</td>\n",
       "      <td>0</td>\n",
       "      <td>0</td>\n",
       "      <td>0</td>\n",
       "      <td>0</td>\n",
       "      <td>0</td>\n",
       "      <td>0</td>\n",
       "      <td>0</td>\n",
       "      <td>0</td>\n",
       "      <td>2</td>\n",
       "    </tr>\n",
       "    <tr>\n",
       "      <th>3</th>\n",
       "      <td>2785</td>\n",
       "      <td>155</td>\n",
       "      <td>18</td>\n",
       "      <td>242</td>\n",
       "      <td>118</td>\n",
       "      <td>3090</td>\n",
       "      <td>238</td>\n",
       "      <td>238</td>\n",
       "      <td>122</td>\n",
       "      <td>6211</td>\n",
       "      <td>...</td>\n",
       "      <td>0</td>\n",
       "      <td>0</td>\n",
       "      <td>0</td>\n",
       "      <td>0</td>\n",
       "      <td>0</td>\n",
       "      <td>0</td>\n",
       "      <td>0</td>\n",
       "      <td>0</td>\n",
       "      <td>0</td>\n",
       "      <td>2</td>\n",
       "    </tr>\n",
       "    <tr>\n",
       "      <th>4</th>\n",
       "      <td>2595</td>\n",
       "      <td>45</td>\n",
       "      <td>2</td>\n",
       "      <td>153</td>\n",
       "      <td>-1</td>\n",
       "      <td>391</td>\n",
       "      <td>220</td>\n",
       "      <td>234</td>\n",
       "      <td>150</td>\n",
       "      <td>6172</td>\n",
       "      <td>...</td>\n",
       "      <td>0</td>\n",
       "      <td>0</td>\n",
       "      <td>0</td>\n",
       "      <td>0</td>\n",
       "      <td>0</td>\n",
       "      <td>0</td>\n",
       "      <td>0</td>\n",
       "      <td>0</td>\n",
       "      <td>0</td>\n",
       "      <td>5</td>\n",
       "    </tr>\n",
       "  </tbody>\n",
       "</table>\n",
       "<p>5 rows × 55 columns</p>\n",
       "</div>"
      ],
      "text/plain": [
       "   Elevation  Aspect  Slope  Horizontal_Distance_To_Hydrology  \\\n",
       "0       2596      51      3                               258   \n",
       "1       2590      56      2                               212   \n",
       "2       2804     139      9                               268   \n",
       "3       2785     155     18                               242   \n",
       "4       2595      45      2                               153   \n",
       "\n",
       "   Vertical_Distance_To_Hydrology  Horizontal_Distance_To_Roadways  \\\n",
       "0                               0                              510   \n",
       "1                              -6                              390   \n",
       "2                              65                             3180   \n",
       "3                             118                             3090   \n",
       "4                              -1                              391   \n",
       "\n",
       "   Hillshade_9am  Hillshade_Noon  Hillshade_3pm  \\\n",
       "0            221             232            148   \n",
       "1            220             235            151   \n",
       "2            234             238            135   \n",
       "3            238             238            122   \n",
       "4            220             234            150   \n",
       "\n",
       "   Horizontal_Distance_To_Fire_Points  ...  Soil_Type32  Soil_Type33  \\\n",
       "0                                6279  ...            0            0   \n",
       "1                                6225  ...            0            0   \n",
       "2                                6121  ...            0            0   \n",
       "3                                6211  ...            0            0   \n",
       "4                                6172  ...            0            0   \n",
       "\n",
       "   Soil_Type34  Soil_Type35  Soil_Type36  Soil_Type37  Soil_Type38  \\\n",
       "0            0            0            0            0            0   \n",
       "1            0            0            0            0            0   \n",
       "2            0            0            0            0            0   \n",
       "3            0            0            0            0            0   \n",
       "4            0            0            0            0            0   \n",
       "\n",
       "   Soil_Type39  Soil_Type40  Cover_Type  \n",
       "0            0            0           5  \n",
       "1            0            0           5  \n",
       "2            0            0           2  \n",
       "3            0            0           2  \n",
       "4            0            0           5  \n",
       "\n",
       "[5 rows x 55 columns]"
      ]
     },
     "execution_count": 53,
     "metadata": {},
     "output_type": "execute_result"
    }
   ],
   "source": [
    "X.head()"
   ]
  },
  {
   "cell_type": "markdown",
   "metadata": {},
   "source": [
    "According to the following data description, there are 54 attributes consititute to make a decision on 'Cover_Type'. So, if we were to do clustering this is will be considered as a high dimensional set of data as the no.of dimensions are greater than 3. \n",
    "\n",
    "To calculate the distance between two points within a spacial space of 54 dimensions is possible but difficult for the algorithms.\n",
    "\n",
    "Also, some of the dimensions have values in ranges varying from tens to hundreds to thousands. So, distance calculations using these values will only hinder the performance of the clustering algorithm.\n",
    "\n",
    "Therefore, we need to normalize the data attributes and then apply dimensionality reduction techniques before going in for clustering."
   ]
  },
  {
   "cell_type": "code",
   "execution_count": 54,
   "metadata": {},
   "outputs": [
    {
     "data": {
      "text/html": [
       "<div>\n",
       "<style scoped>\n",
       "    .dataframe tbody tr th:only-of-type {\n",
       "        vertical-align: middle;\n",
       "    }\n",
       "\n",
       "    .dataframe tbody tr th {\n",
       "        vertical-align: top;\n",
       "    }\n",
       "\n",
       "    .dataframe thead th {\n",
       "        text-align: right;\n",
       "    }\n",
       "</style>\n",
       "<table border=\"1\" class=\"dataframe\">\n",
       "  <thead>\n",
       "    <tr style=\"text-align: right;\">\n",
       "      <th></th>\n",
       "      <th>Elevation</th>\n",
       "      <th>Aspect</th>\n",
       "      <th>Slope</th>\n",
       "      <th>Horizontal_Distance_To_Roadways</th>\n",
       "      <th>Hillshade_9am</th>\n",
       "      <th>Hillshade_Noon</th>\n",
       "      <th>Hillshade_3pm</th>\n",
       "      <th>Horizontal_Distance_To_Fire_Points</th>\n",
       "      <th>Horizontal_Distance_To_Hydrology</th>\n",
       "      <th>Vertical_Distance_To_Hydrology</th>\n",
       "    </tr>\n",
       "  </thead>\n",
       "  <tbody>\n",
       "    <tr>\n",
       "      <th>count</th>\n",
       "      <td>581012.000000</td>\n",
       "      <td>581012.000000</td>\n",
       "      <td>581012.000000</td>\n",
       "      <td>581012.000000</td>\n",
       "      <td>581012.000000</td>\n",
       "      <td>581012.000000</td>\n",
       "      <td>581012.000000</td>\n",
       "      <td>581012.000000</td>\n",
       "      <td>581012.000000</td>\n",
       "      <td>581012.000000</td>\n",
       "    </tr>\n",
       "    <tr>\n",
       "      <th>mean</th>\n",
       "      <td>2959.365301</td>\n",
       "      <td>155.656807</td>\n",
       "      <td>14.103704</td>\n",
       "      <td>2350.146611</td>\n",
       "      <td>212.146049</td>\n",
       "      <td>223.318716</td>\n",
       "      <td>142.528263</td>\n",
       "      <td>1980.291226</td>\n",
       "      <td>269.428217</td>\n",
       "      <td>46.418855</td>\n",
       "    </tr>\n",
       "    <tr>\n",
       "      <th>std</th>\n",
       "      <td>279.984734</td>\n",
       "      <td>111.913721</td>\n",
       "      <td>7.488242</td>\n",
       "      <td>1559.254870</td>\n",
       "      <td>26.769889</td>\n",
       "      <td>19.768697</td>\n",
       "      <td>38.274529</td>\n",
       "      <td>1324.195210</td>\n",
       "      <td>212.549356</td>\n",
       "      <td>58.295232</td>\n",
       "    </tr>\n",
       "    <tr>\n",
       "      <th>min</th>\n",
       "      <td>1859.000000</td>\n",
       "      <td>0.000000</td>\n",
       "      <td>0.000000</td>\n",
       "      <td>0.000000</td>\n",
       "      <td>0.000000</td>\n",
       "      <td>0.000000</td>\n",
       "      <td>0.000000</td>\n",
       "      <td>0.000000</td>\n",
       "      <td>0.000000</td>\n",
       "      <td>-173.000000</td>\n",
       "    </tr>\n",
       "    <tr>\n",
       "      <th>25%</th>\n",
       "      <td>2809.000000</td>\n",
       "      <td>58.000000</td>\n",
       "      <td>9.000000</td>\n",
       "      <td>1106.000000</td>\n",
       "      <td>198.000000</td>\n",
       "      <td>213.000000</td>\n",
       "      <td>119.000000</td>\n",
       "      <td>1024.000000</td>\n",
       "      <td>108.000000</td>\n",
       "      <td>7.000000</td>\n",
       "    </tr>\n",
       "    <tr>\n",
       "      <th>50%</th>\n",
       "      <td>2996.000000</td>\n",
       "      <td>127.000000</td>\n",
       "      <td>13.000000</td>\n",
       "      <td>1997.000000</td>\n",
       "      <td>218.000000</td>\n",
       "      <td>226.000000</td>\n",
       "      <td>143.000000</td>\n",
       "      <td>1710.000000</td>\n",
       "      <td>218.000000</td>\n",
       "      <td>30.000000</td>\n",
       "    </tr>\n",
       "    <tr>\n",
       "      <th>75%</th>\n",
       "      <td>3163.000000</td>\n",
       "      <td>260.000000</td>\n",
       "      <td>18.000000</td>\n",
       "      <td>3328.000000</td>\n",
       "      <td>231.000000</td>\n",
       "      <td>237.000000</td>\n",
       "      <td>168.000000</td>\n",
       "      <td>2550.000000</td>\n",
       "      <td>384.000000</td>\n",
       "      <td>69.000000</td>\n",
       "    </tr>\n",
       "    <tr>\n",
       "      <th>max</th>\n",
       "      <td>3858.000000</td>\n",
       "      <td>360.000000</td>\n",
       "      <td>66.000000</td>\n",
       "      <td>7117.000000</td>\n",
       "      <td>254.000000</td>\n",
       "      <td>254.000000</td>\n",
       "      <td>254.000000</td>\n",
       "      <td>7173.000000</td>\n",
       "      <td>1397.000000</td>\n",
       "      <td>601.000000</td>\n",
       "    </tr>\n",
       "  </tbody>\n",
       "</table>\n",
       "</div>"
      ],
      "text/plain": [
       "           Elevation         Aspect          Slope  \\\n",
       "count  581012.000000  581012.000000  581012.000000   \n",
       "mean     2959.365301     155.656807      14.103704   \n",
       "std       279.984734     111.913721       7.488242   \n",
       "min      1859.000000       0.000000       0.000000   \n",
       "25%      2809.000000      58.000000       9.000000   \n",
       "50%      2996.000000     127.000000      13.000000   \n",
       "75%      3163.000000     260.000000      18.000000   \n",
       "max      3858.000000     360.000000      66.000000   \n",
       "\n",
       "       Horizontal_Distance_To_Roadways  Hillshade_9am  Hillshade_Noon  \\\n",
       "count                    581012.000000  581012.000000   581012.000000   \n",
       "mean                       2350.146611     212.146049      223.318716   \n",
       "std                        1559.254870      26.769889       19.768697   \n",
       "min                           0.000000       0.000000        0.000000   \n",
       "25%                        1106.000000     198.000000      213.000000   \n",
       "50%                        1997.000000     218.000000      226.000000   \n",
       "75%                        3328.000000     231.000000      237.000000   \n",
       "max                        7117.000000     254.000000      254.000000   \n",
       "\n",
       "       Hillshade_3pm  Horizontal_Distance_To_Fire_Points  \\\n",
       "count  581012.000000                       581012.000000   \n",
       "mean      142.528263                         1980.291226   \n",
       "std        38.274529                         1324.195210   \n",
       "min         0.000000                            0.000000   \n",
       "25%       119.000000                         1024.000000   \n",
       "50%       143.000000                         1710.000000   \n",
       "75%       168.000000                         2550.000000   \n",
       "max       254.000000                         7173.000000   \n",
       "\n",
       "       Horizontal_Distance_To_Hydrology  Vertical_Distance_To_Hydrology  \n",
       "count                     581012.000000                   581012.000000  \n",
       "mean                         269.428217                       46.418855  \n",
       "std                          212.549356                       58.295232  \n",
       "min                            0.000000                     -173.000000  \n",
       "25%                          108.000000                        7.000000  \n",
       "50%                          218.000000                       30.000000  \n",
       "75%                          384.000000                       69.000000  \n",
       "max                         1397.000000                      601.000000  "
      ]
     },
     "execution_count": 54,
     "metadata": {},
     "output_type": "execute_result"
    }
   ],
   "source": [
    "X[[\"Elevation\",\"Aspect\",\"Slope\",\"Horizontal_Distance_To_Roadways\",\"Hillshade_9am\",\"Hillshade_Noon\",\"Hillshade_3pm\",\"Horizontal_Distance_To_Fire_Points\",\"Horizontal_Distance_To_Hydrology\",\"Vertical_Distance_To_Hydrology\"]].describe()"
   ]
  },
  {
   "cell_type": "markdown",
   "metadata": {},
   "source": [
    "When we observe the numerical attribute, we can see that we don't need the following two separate variables.\n",
    "  - Horizontal_Distance_To_Hydrology\n",
    "  - Vertical_Distance_To_Hydrology\n",
    "\n",
    "We can combine them into one attribute and remove the above two as follows."
   ]
  },
  {
   "cell_type": "code",
   "execution_count": 55,
   "metadata": {},
   "outputs": [],
   "source": [
    "X[\"Distance_To_Hydrology\"] = ( (X[\"Horizontal_Distance_To_Hydrology\"] ** 2) + (X[\"Vertical_Distance_To_Hydrology\"] ** 2) ) ** (0.5)"
   ]
  },
  {
   "cell_type": "code",
   "execution_count": 56,
   "metadata": {},
   "outputs": [],
   "source": [
    "X.drop([\"Horizontal_Distance_To_Hydrology\",\"Vertical_Distance_To_Hydrology\"], axis=1, inplace=True)"
   ]
  },
  {
   "cell_type": "markdown",
   "metadata": {},
   "source": [
    "In order to one-hot-encode the 'Cover_Type' attribute, let's add its corresponding class labels as follows and then do the one-hot-encoding."
   ]
  },
  {
   "cell_type": "code",
   "execution_count": 57,
   "metadata": {},
   "outputs": [],
   "source": [
    "X['Cover_Type'].replace({1:'Spruce/Fir', 2:'Lodgepole Pine', 3:'Ponderosa Pine', 4:'Cottonwood/Willow', 5:'Aspen', 6:'Douglas-fir', 7:'Krummholz'}, inplace=True)"
   ]
  },
  {
   "cell_type": "code",
   "execution_count": 58,
   "metadata": {},
   "outputs": [],
   "source": [
    "X = pd.get_dummies(X, columns=['Cover_Type'])"
   ]
  },
  {
   "cell_type": "markdown",
   "metadata": {},
   "source": [
    "#### Normalization"
   ]
  },
  {
   "cell_type": "markdown",
   "metadata": {},
   "source": [
    "Let's divide the data set into numerical and categorical attributes before doing the normalization as follows."
   ]
  },
  {
   "cell_type": "code",
   "execution_count": 59,
   "metadata": {},
   "outputs": [],
   "source": [
    "numerical = X[[\"Elevation\",\"Aspect\",\"Slope\",\"Horizontal_Distance_To_Roadways\",\"Hillshade_9am\",\"Hillshade_Noon\",\"Hillshade_3pm\",\"Horizontal_Distance_To_Fire_Points\",\"Distance_To_Hydrology\"]]\n",
    "categorical = X[[\"Wilderness_Area1\",\"Wilderness_Area2\",\"Wilderness_Area3\",\"Wilderness_Area4\",\"Soil_Type1\",\"Soil_Type2\",\"Soil_Type3\",\"Soil_Type4\",\"Soil_Type5\",\"Soil_Type6\",\"Soil_Type7\",\"Soil_Type8\",\"Soil_Type9\",\"Soil_Type10\",\"Soil_Type11\",\"Soil_Type12\",\"Soil_Type13\",\"Soil_Type14\",\"Soil_Type15\",\"Soil_Type16\",\"Soil_Type17\",\"Soil_Type18\",\"Soil_Type19\",\"Soil_Type20\",\"Soil_Type21\",\"Soil_Type22\",\"Soil_Type23\",\"Soil_Type24\",\"Soil_Type25\",\"Soil_Type26\",\"Soil_Type27\",\"Soil_Type28\",\"Soil_Type29\",\"Soil_Type30\",\"Soil_Type31\",\"Soil_Type32\",\"Soil_Type33\",\"Soil_Type34\",\"Soil_Type35\",\"Soil_Type36\",\"Soil_Type37\",\"Soil_Type38\",\"Soil_Type39\",\"Soil_Type40\",\"Cover_Type_Aspen\",\"Cover_Type_Cottonwood/Willow\",\"Cover_Type_Douglas-fir\",\"Cover_Type_Krummholz\",\"Cover_Type_Lodgepole Pine\",\"Cover_Type_Ponderosa Pine\",\"Cover_Type_Spruce/Fir\"]]"
   ]
  },
  {
   "cell_type": "markdown",
   "metadata": {},
   "source": [
    "Now we can do the normalization."
   ]
  },
  {
   "cell_type": "code",
   "execution_count": 60,
   "metadata": {},
   "outputs": [],
   "source": [
    "sc = StandardScaler()\n",
    "numerical = pd.DataFrame(sc.fit_transform(numerical))\n",
    "numerical.columns = [\"Elevation_Scaled\",\"Aspect_Scaled\",\"Slope_Scaled\",\"Horizontal_Distance_To_Roadways_Scaled\",\"Hillshade_9am_Scaled\",\"Hillshade_Noon_Scaled\",\"Hillshade_3pm_Scaled\",\"Horizontal_Distance_To_Fire_Points_Scaled\",\"Distance_To_Hydrology_Scaled\"]"
   ]
  },
  {
   "cell_type": "markdown",
   "metadata": {},
   "source": [
    "Now we can rejoin the two variable sets together to make the full dataset."
   ]
  },
  {
   "cell_type": "code",
   "execution_count": 61,
   "metadata": {},
   "outputs": [
    {
     "data": {
      "text/html": [
       "<div>\n",
       "<style scoped>\n",
       "    .dataframe tbody tr th:only-of-type {\n",
       "        vertical-align: middle;\n",
       "    }\n",
       "\n",
       "    .dataframe tbody tr th {\n",
       "        vertical-align: top;\n",
       "    }\n",
       "\n",
       "    .dataframe thead th {\n",
       "        text-align: right;\n",
       "    }\n",
       "</style>\n",
       "<table border=\"1\" class=\"dataframe\">\n",
       "  <thead>\n",
       "    <tr style=\"text-align: right;\">\n",
       "      <th></th>\n",
       "      <th>Elevation_Scaled</th>\n",
       "      <th>Aspect_Scaled</th>\n",
       "      <th>Slope_Scaled</th>\n",
       "      <th>Horizontal_Distance_To_Roadways_Scaled</th>\n",
       "      <th>Hillshade_9am_Scaled</th>\n",
       "      <th>Hillshade_Noon_Scaled</th>\n",
       "      <th>Hillshade_3pm_Scaled</th>\n",
       "      <th>Horizontal_Distance_To_Fire_Points_Scaled</th>\n",
       "      <th>Distance_To_Hydrology_Scaled</th>\n",
       "      <th>Wilderness_Area1</th>\n",
       "      <th>...</th>\n",
       "      <th>Soil_Type38</th>\n",
       "      <th>Soil_Type39</th>\n",
       "      <th>Soil_Type40</th>\n",
       "      <th>Cover_Type_Aspen</th>\n",
       "      <th>Cover_Type_Cottonwood/Willow</th>\n",
       "      <th>Cover_Type_Douglas-fir</th>\n",
       "      <th>Cover_Type_Krummholz</th>\n",
       "      <th>Cover_Type_Lodgepole Pine</th>\n",
       "      <th>Cover_Type_Ponderosa Pine</th>\n",
       "      <th>Cover_Type_Spruce/Fir</th>\n",
       "    </tr>\n",
       "  </thead>\n",
       "  <tbody>\n",
       "    <tr>\n",
       "      <th>0</th>\n",
       "      <td>-1.297805</td>\n",
       "      <td>-0.935157</td>\n",
       "      <td>-1.482820</td>\n",
       "      <td>-1.180146</td>\n",
       "      <td>0.330743</td>\n",
       "      <td>0.439143</td>\n",
       "      <td>0.142960</td>\n",
       "      <td>3.246283</td>\n",
       "      <td>-0.083233</td>\n",
       "      <td>1</td>\n",
       "      <td>...</td>\n",
       "      <td>0</td>\n",
       "      <td>0</td>\n",
       "      <td>0</td>\n",
       "      <td>1</td>\n",
       "      <td>0</td>\n",
       "      <td>0</td>\n",
       "      <td>0</td>\n",
       "      <td>0</td>\n",
       "      <td>0</td>\n",
       "      <td>0</td>\n",
       "    </tr>\n",
       "    <tr>\n",
       "      <th>1</th>\n",
       "      <td>-1.319235</td>\n",
       "      <td>-0.890480</td>\n",
       "      <td>-1.616363</td>\n",
       "      <td>-1.257106</td>\n",
       "      <td>0.293388</td>\n",
       "      <td>0.590899</td>\n",
       "      <td>0.221342</td>\n",
       "      <td>3.205504</td>\n",
       "      <td>-0.294777</td>\n",
       "      <td>1</td>\n",
       "      <td>...</td>\n",
       "      <td>0</td>\n",
       "      <td>0</td>\n",
       "      <td>0</td>\n",
       "      <td>1</td>\n",
       "      <td>0</td>\n",
       "      <td>0</td>\n",
       "      <td>0</td>\n",
       "      <td>0</td>\n",
       "      <td>0</td>\n",
       "      <td>0</td>\n",
       "    </tr>\n",
       "    <tr>\n",
       "      <th>2</th>\n",
       "      <td>-0.554907</td>\n",
       "      <td>-0.148836</td>\n",
       "      <td>-0.681563</td>\n",
       "      <td>0.532212</td>\n",
       "      <td>0.816364</td>\n",
       "      <td>0.742654</td>\n",
       "      <td>-0.196691</td>\n",
       "      <td>3.126965</td>\n",
       "      <td>-0.001362</td>\n",
       "      <td>1</td>\n",
       "      <td>...</td>\n",
       "      <td>0</td>\n",
       "      <td>0</td>\n",
       "      <td>0</td>\n",
       "      <td>0</td>\n",
       "      <td>0</td>\n",
       "      <td>0</td>\n",
       "      <td>0</td>\n",
       "      <td>1</td>\n",
       "      <td>0</td>\n",
       "      <td>0</td>\n",
       "    </tr>\n",
       "    <tr>\n",
       "      <th>3</th>\n",
       "      <td>-0.622768</td>\n",
       "      <td>-0.005869</td>\n",
       "      <td>0.520322</td>\n",
       "      <td>0.474492</td>\n",
       "      <td>0.965786</td>\n",
       "      <td>0.742654</td>\n",
       "      <td>-0.536343</td>\n",
       "      <td>3.194931</td>\n",
       "      <td>-0.031466</td>\n",
       "      <td>1</td>\n",
       "      <td>...</td>\n",
       "      <td>0</td>\n",
       "      <td>0</td>\n",
       "      <td>0</td>\n",
       "      <td>0</td>\n",
       "      <td>0</td>\n",
       "      <td>0</td>\n",
       "      <td>0</td>\n",
       "      <td>1</td>\n",
       "      <td>0</td>\n",
       "      <td>0</td>\n",
       "    </tr>\n",
       "    <tr>\n",
       "      <th>4</th>\n",
       "      <td>-1.301377</td>\n",
       "      <td>-0.988770</td>\n",
       "      <td>-1.616363</td>\n",
       "      <td>-1.256464</td>\n",
       "      <td>0.293388</td>\n",
       "      <td>0.540313</td>\n",
       "      <td>0.195215</td>\n",
       "      <td>3.165479</td>\n",
       "      <td>-0.566983</td>\n",
       "      <td>1</td>\n",
       "      <td>...</td>\n",
       "      <td>0</td>\n",
       "      <td>0</td>\n",
       "      <td>0</td>\n",
       "      <td>1</td>\n",
       "      <td>0</td>\n",
       "      <td>0</td>\n",
       "      <td>0</td>\n",
       "      <td>0</td>\n",
       "      <td>0</td>\n",
       "      <td>0</td>\n",
       "    </tr>\n",
       "  </tbody>\n",
       "</table>\n",
       "<p>5 rows × 60 columns</p>\n",
       "</div>"
      ],
      "text/plain": [
       "   Elevation_Scaled  Aspect_Scaled  Slope_Scaled  \\\n",
       "0         -1.297805      -0.935157     -1.482820   \n",
       "1         -1.319235      -0.890480     -1.616363   \n",
       "2         -0.554907      -0.148836     -0.681563   \n",
       "3         -0.622768      -0.005869      0.520322   \n",
       "4         -1.301377      -0.988770     -1.616363   \n",
       "\n",
       "   Horizontal_Distance_To_Roadways_Scaled  Hillshade_9am_Scaled  \\\n",
       "0                               -1.180146              0.330743   \n",
       "1                               -1.257106              0.293388   \n",
       "2                                0.532212              0.816364   \n",
       "3                                0.474492              0.965786   \n",
       "4                               -1.256464              0.293388   \n",
       "\n",
       "   Hillshade_Noon_Scaled  Hillshade_3pm_Scaled  \\\n",
       "0               0.439143              0.142960   \n",
       "1               0.590899              0.221342   \n",
       "2               0.742654             -0.196691   \n",
       "3               0.742654             -0.536343   \n",
       "4               0.540313              0.195215   \n",
       "\n",
       "   Horizontal_Distance_To_Fire_Points_Scaled  Distance_To_Hydrology_Scaled  \\\n",
       "0                                   3.246283                     -0.083233   \n",
       "1                                   3.205504                     -0.294777   \n",
       "2                                   3.126965                     -0.001362   \n",
       "3                                   3.194931                     -0.031466   \n",
       "4                                   3.165479                     -0.566983   \n",
       "\n",
       "   Wilderness_Area1  ...  Soil_Type38  Soil_Type39  Soil_Type40  \\\n",
       "0                 1  ...            0            0            0   \n",
       "1                 1  ...            0            0            0   \n",
       "2                 1  ...            0            0            0   \n",
       "3                 1  ...            0            0            0   \n",
       "4                 1  ...            0            0            0   \n",
       "\n",
       "   Cover_Type_Aspen  Cover_Type_Cottonwood/Willow  Cover_Type_Douglas-fir  \\\n",
       "0                 1                             0                       0   \n",
       "1                 1                             0                       0   \n",
       "2                 0                             0                       0   \n",
       "3                 0                             0                       0   \n",
       "4                 1                             0                       0   \n",
       "\n",
       "   Cover_Type_Krummholz  Cover_Type_Lodgepole Pine  Cover_Type_Ponderosa Pine  \\\n",
       "0                     0                          0                          0   \n",
       "1                     0                          0                          0   \n",
       "2                     0                          1                          0   \n",
       "3                     0                          1                          0   \n",
       "4                     0                          0                          0   \n",
       "\n",
       "   Cover_Type_Spruce/Fir  \n",
       "0                      0  \n",
       "1                      0  \n",
       "2                      0  \n",
       "3                      0  \n",
       "4                      0  \n",
       "\n",
       "[5 rows x 60 columns]"
      ]
     },
     "execution_count": 61,
     "metadata": {},
     "output_type": "execute_result"
    }
   ],
   "source": [
    "X = pd.concat([numerical, categorical], axis=1, join='inner')\n",
    "X.head()"
   ]
  },
  {
   "cell_type": "markdown",
   "metadata": {},
   "source": [
    "Now let's start applying the following dimensionality reduction methods for the dataset X.\n",
    "    1. PCA - Principle Component Analysis\n",
    "    2. TSNE - T-distributed Stochastic Neighbor Embedding"
   ]
  },
  {
   "cell_type": "markdown",
   "metadata": {},
   "source": [
    "#### Dimensionality Reduction using PCA"
   ]
  },
  {
   "cell_type": "markdown",
   "metadata": {},
   "source": [
    "Let's create one, two and three principle components respectively as follows."
   ]
  },
  {
   "cell_type": "code",
   "execution_count": 66,
   "metadata": {},
   "outputs": [],
   "source": [
    "pca_1d = PCA(n_components=1)\n",
    "\n",
    "pca_2d = PCA(n_components=2)\n",
    "\n",
    "pca_3d = PCA(n_components=3)"
   ]
  },
  {
   "cell_type": "markdown",
   "metadata": {},
   "source": [
    "Since PCA takes long time to compute, random sample of `RAND_SAMPLE_SIZE_PCA` entries are taken from X for the T-SNE section."
   ]
  },
  {
   "cell_type": "code",
   "execution_count": 72,
   "metadata": {},
   "outputs": [],
   "source": [
    "X_PCA_sub = pd.DataFrame(np.array(X.sample(RAND_SAMPLE_SIZE_PCA)))\n",
    "X_PCA_sub.columns = X.columns"
   ]
  },
  {
   "cell_type": "code",
   "execution_count": 73,
   "metadata": {},
   "outputs": [],
   "source": [
    "PCs_1d = pd.DataFrame(pca_1d.fit_transform(X_PCA_sub))\n",
    "\n",
    "PCs_2d = pd.DataFrame(pca_2d.fit_transform(X_PCA_sub))\n",
    "\n",
    "PCs_3d = pd.DataFrame(pca_3d.fit_transform(X_PCA_sub))"
   ]
  },
  {
   "cell_type": "markdown",
   "metadata": {},
   "source": [
    "Renaming the columns as Principle Components accordingly."
   ]
  },
  {
   "cell_type": "code",
   "execution_count": 74,
   "metadata": {},
   "outputs": [],
   "source": [
    "PCs_1d.columns = [\"PC1_1d\"]\n",
    "PCs_2d.columns = [\"PC1_2d\", \"PC2_2d\"]\n",
    "PCs_3d.columns = [\"PC1_3d\", \"PC2_3d\", \"PC3_3d\"]"
   ]
  },
  {
   "cell_type": "markdown",
   "metadata": {},
   "source": [
    "#### Dimensionality Reduction using T-SNE"
   ]
  },
  {
   "cell_type": "code",
   "execution_count": 82,
   "metadata": {},
   "outputs": [],
   "source": [
    "tsne_1d = TSNE(n_components=1, perplexity=50)\n",
    "\n",
    "tsne_2d = TSNE(n_components=2, perplexity=50)\n",
    "\n",
    "tsne_3d = TSNE(n_components=3, perplexity=50)"
   ]
  },
  {
   "cell_type": "markdown",
   "metadata": {},
   "source": [
    "Since T-SNE takes long time to compute, random sample of `RAND_SAMPLE_SIZE_TSNE` entries are taken from X for the T-SNE section."
   ]
  },
  {
   "cell_type": "code",
   "execution_count": 83,
   "metadata": {},
   "outputs": [],
   "source": [
    "X_TSNE_sub = pd.DataFrame(np.array(X.sample(RAND_SAMPLE_SIZE_TSNE)))\n",
    "X_TSNE_sub.columns = X.columns"
   ]
  },
  {
   "cell_type": "code",
   "execution_count": 84,
   "metadata": {},
   "outputs": [],
   "source": [
    "# TCs_1d = pd.DataFrame(tsne_1d.fit_transform(X))\n",
    "TCs_1d = pd.DataFrame(tsne_1d.fit_transform(X_TSNE_sub))\n",
    "\n",
    "# TCs_2d = pd.DataFrame(tsne_2d.fit_transform(X))\n",
    "TCs_2d = pd.DataFrame(tsne_2d.fit_transform(X_TSNE_sub))\n",
    "\n",
    "# TCs_3d = pd.DataFrame(tsne_3d.fit_transform(X))\n",
    "TCs_3d = pd.DataFrame(tsne_3d.fit_transform(X_TSNE_sub))"
   ]
  },
  {
   "cell_type": "code",
   "execution_count": 85,
   "metadata": {},
   "outputs": [],
   "source": [
    "TCs_1d.columns = [\"TC1_1d\"]\n",
    "TCs_2d.columns = [\"TC1_2d\",\"TC2_2d\"]\n",
    "TCs_3d.columns = [\"TC1_3d\",\"TC2_3d\",\"TC3_3d\"]"
   ]
  },
  {
   "cell_type": "markdown",
   "metadata": {},
   "source": [
    "### Clustering based on Principle Components"
   ]
  },
  {
   "cell_type": "code",
   "execution_count": 86,
   "metadata": {},
   "outputs": [],
   "source": [
    "kmeans_PCA_1d = KMeans(n_clusters=7)\n",
    "kmeans_PCA_2d = KMeans(n_clusters=7)\n",
    "kmeans_PCA_3d = KMeans(n_clusters=7)"
   ]
  },
  {
   "cell_type": "code",
   "execution_count": 87,
   "metadata": {},
   "outputs": [
    {
     "data": {
      "text/plain": [
       "KMeans(n_clusters=3)"
      ]
     },
     "execution_count": 87,
     "metadata": {},
     "output_type": "execute_result"
    }
   ],
   "source": [
    "kmeans_PCA_1d.fit(PCs_1d)"
   ]
  },
  {
   "cell_type": "code",
   "execution_count": 88,
   "metadata": {},
   "outputs": [
    {
     "data": {
      "text/plain": [
       "KMeans(n_clusters=3)"
      ]
     },
     "execution_count": 88,
     "metadata": {},
     "output_type": "execute_result"
    }
   ],
   "source": [
    "kmeans_PCA_2d.fit(PCs_2d)"
   ]
  },
  {
   "cell_type": "code",
   "execution_count": 89,
   "metadata": {},
   "outputs": [
    {
     "data": {
      "text/plain": [
       "KMeans(n_clusters=3)"
      ]
     },
     "execution_count": 89,
     "metadata": {},
     "output_type": "execute_result"
    }
   ],
   "source": [
    "kmeans_PCA_3d.fit(PCs_3d)"
   ]
  },
  {
   "cell_type": "code",
   "execution_count": 90,
   "metadata": {},
   "outputs": [],
   "source": [
    "clusters_PCA_1d = kmeans_PCA_1d.predict(PCs_1d)"
   ]
  },
  {
   "cell_type": "code",
   "execution_count": 91,
   "metadata": {},
   "outputs": [],
   "source": [
    "clusters_PCA_2d = kmeans_PCA_2d.predict(PCs_2d)"
   ]
  },
  {
   "cell_type": "code",
   "execution_count": 92,
   "metadata": {},
   "outputs": [],
   "source": [
    "clusters_PCA_3d = kmeans_PCA_3d.predict(PCs_3d)"
   ]
  },
  {
   "cell_type": "code",
   "execution_count": 93,
   "metadata": {},
   "outputs": [],
   "source": [
    "PCs_1d[\"Cluster\"] = clusters_PCA_1d\n",
    "PCs_2d[\"Cluster\"] = clusters_PCA_2d\n",
    "PCs_3d[\"Cluster\"] = clusters_PCA_3d"
   ]
  },
  {
   "cell_type": "markdown",
   "metadata": {},
   "source": [
    "### Clustering based on T-SNE reduced dimensions"
   ]
  },
  {
   "cell_type": "code",
   "execution_count": 94,
   "metadata": {},
   "outputs": [],
   "source": [
    "kmeans_TSNE_1d = KMeans(n_clusters=7)\n",
    "kmeans_TSNE_2d = KMeans(n_clusters=7)\n",
    "kmeans_TSNE_3d = KMeans(n_clusters=7)"
   ]
  },
  {
   "cell_type": "code",
   "execution_count": 95,
   "metadata": {},
   "outputs": [
    {
     "data": {
      "text/plain": [
       "KMeans(n_clusters=3)"
      ]
     },
     "execution_count": 95,
     "metadata": {},
     "output_type": "execute_result"
    }
   ],
   "source": [
    "kmeans_TSNE_1d.fit(TCs_1d)"
   ]
  },
  {
   "cell_type": "code",
   "execution_count": 96,
   "metadata": {},
   "outputs": [
    {
     "data": {
      "text/plain": [
       "KMeans(n_clusters=3)"
      ]
     },
     "execution_count": 96,
     "metadata": {},
     "output_type": "execute_result"
    }
   ],
   "source": [
    "kmeans_TSNE_2d.fit(TCs_2d)"
   ]
  },
  {
   "cell_type": "code",
   "execution_count": 97,
   "metadata": {},
   "outputs": [
    {
     "data": {
      "text/plain": [
       "KMeans(n_clusters=3)"
      ]
     },
     "execution_count": 97,
     "metadata": {},
     "output_type": "execute_result"
    }
   ],
   "source": [
    "kmeans_TSNE_3d.fit(TCs_3d)"
   ]
  },
  {
   "cell_type": "code",
   "execution_count": 98,
   "metadata": {},
   "outputs": [],
   "source": [
    "clusters_TSNE_1d = kmeans_TSNE_1d.predict(TCs_1d)"
   ]
  },
  {
   "cell_type": "code",
   "execution_count": 99,
   "metadata": {},
   "outputs": [],
   "source": [
    "clusters_TSNE_2d = kmeans_TSNE_2d.predict(TCs_2d)"
   ]
  },
  {
   "cell_type": "code",
   "execution_count": 100,
   "metadata": {},
   "outputs": [],
   "source": [
    "clusters_TSNE_3d = kmeans_TSNE_3d.predict(TCs_3d)"
   ]
  },
  {
   "cell_type": "code",
   "execution_count": 101,
   "metadata": {},
   "outputs": [],
   "source": [
    "TCs_1d[\"Cluster\"] = clusters_TSNE_1d\n",
    "TCs_2d[\"Cluster\"] = clusters_TSNE_2d\n",
    "TCs_3d[\"Cluster\"] = clusters_TSNE_3d"
   ]
  },
  {
   "cell_type": "markdown",
   "metadata": {},
   "source": [
    "#### Clustering Evaluation"
   ]
  },
  {
   "cell_type": "code",
   "execution_count": 102,
   "metadata": {},
   "outputs": [],
   "source": [
    "score_PCA_1d = silhouette_score(PCs_1d, kmeans_PCA_1d.labels_, metric='euclidean')"
   ]
  },
  {
   "cell_type": "code",
   "execution_count": 103,
   "metadata": {},
   "outputs": [],
   "source": [
    "score_PCA_2d = silhouette_score(PCs_2d, kmeans_PCA_2d.labels_, metric='euclidean')"
   ]
  },
  {
   "cell_type": "code",
   "execution_count": 104,
   "metadata": {},
   "outputs": [],
   "source": [
    "score_PCA_3d = silhouette_score(PCs_3d, kmeans_PCA_3d.labels_, metric='euclidean')"
   ]
  },
  {
   "cell_type": "code",
   "execution_count": 105,
   "metadata": {},
   "outputs": [
    {
     "data": {
      "text/plain": [
       "[0.7169657236802458, 0.4533422007085938, 0.3897040859334714]"
      ]
     },
     "execution_count": 105,
     "metadata": {},
     "output_type": "execute_result"
    }
   ],
   "source": [
    "[score_PCA_1d, score_PCA_2d, score_PCA_3d]"
   ]
  },
  {
   "cell_type": "code",
   "execution_count": 106,
   "metadata": {},
   "outputs": [],
   "source": [
    "score_TSNE_1d = silhouette_score(TCs_1d, kmeans_TSNE_1d.labels_, metric='euclidean')"
   ]
  },
  {
   "cell_type": "code",
   "execution_count": 107,
   "metadata": {},
   "outputs": [],
   "source": [
    "score_TSNE_2d = silhouette_score(TCs_2d, kmeans_TSNE_2d.labels_, metric='euclidean')"
   ]
  },
  {
   "cell_type": "code",
   "execution_count": 108,
   "metadata": {},
   "outputs": [],
   "source": [
    "score_TSNE_3d = silhouette_score(TCs_3d, kmeans_TSNE_3d.labels_, metric='euclidean')"
   ]
  },
  {
   "cell_type": "code",
   "execution_count": 165,
   "metadata": {},
   "outputs": [
    {
     "data": {
      "text/plain": [
       "[0.6074961963729343, 0.4780524734059222, 0.37206965856914415]"
      ]
     },
     "execution_count": 165,
     "metadata": {},
     "output_type": "execute_result"
    }
   ],
   "source": [
    "[score_TSNE_1d, score_TSNE_2d, score_TSNE_3d]"
   ]
  },
  {
   "cell_type": "code",
   "execution_count": 173,
   "metadata": {},
   "outputs": [
    {
     "data": {
      "image/png": "[encoded data removed]",
      "text/plain": [
       "<Figure size 576x396 with 1 Axes>"
      ]
     },
     "metadata": {},
     "output_type": "display_data"
    },
    {
     "data": {
      "text/plain": [
       "<AxesSubplot:title={'center':'Silhouette Plot of KMeans Clustering for 10000 Samples in 3 Centers'}, xlabel='silhouette coefficient values', ylabel='cluster label'>"
      ]
     },
     "execution_count": 173,
     "metadata": {},
     "output_type": "execute_result"
    }
   ],
   "source": [
    "visualizer = SilhouetteVisualizer(kmeans_PCA_3d, colors='yellowbrick')\n",
    "visualizer.fit(PCs_3d.drop('Cluster', axis=1))        # Fit the data to the visualizer\n",
    "visualizer.show()        "
   ]
  },
  {
   "cell_type": "code",
   "execution_count": 172,
   "metadata": {},
   "outputs": [
    {
     "data": {
      "image/png": "[encoded data removed]",
      "text/plain": [
       "<Figure size 576x396 with 1 Axes>"
      ]
     },
     "metadata": {},
     "output_type": "display_data"
    },
    {
     "data": {
      "text/plain": [
       "<AxesSubplot:title={'center':'Silhouette Plot of KMeans Clustering for 1000 Samples in 3 Centers'}, xlabel='silhouette coefficient values', ylabel='cluster label'>"
      ]
     },
     "execution_count": 172,
     "metadata": {},
     "output_type": "execute_result"
    }
   ],
   "source": [
    "visualizer = SilhouetteVisualizer(kmeans_TSNE_3d, colors='yellowbrick')\n",
    "visualizer.fit(TCs_3d.drop('Cluster', axis=1))        # Fit the data to the visualizer\n",
    "visualizer.show()        "
   ]
  },
  {
   "cell_type": "code",
   "execution_count": 123,
   "metadata": {},
   "outputs": [],
   "source": [
    "# import matplotlib.pyplot as plt\n",
    "# from sklearn.cluster import KMeans\n",
    "# from sklearn.metrics import silhouette_score\n",
    "# # from kmeansplots import kmeans_plot, silhouette_plot"
   ]
  },
  {
   "cell_type": "code",
   "execution_count": null,
   "metadata": {},
   "outputs": [],
   "source": [
    "# for n_clusters in range(2, 8):\n",
    "#     clusterer = KMeans(n_clusters=n_clusters, random_state=10)\n",
    "#     y = clusterer.fit_predict(X)\n",
    "\n",
    "#     fig, (ax1, ax2) = plt.subplots(1, 2, figsize=(11,4), dpi=500)\n",
    "#     ax1 = silhouette_plot(X, y, n_clusters=n_clusters, ax=ax1)\n",
    "#     ax2 = kmeans_plot(X, y, clusterer.cluster_centers_, ax=ax2)\n",
    "\n",
    "\n",
    "#     fig.subplots_adjust(top=0.825)\n",
    "#     fig.suptitle((\"Silhouette Analysis for KMeans Clustering on Iris Data \"\n",
    "#                   \"\\n$clusters = {}$\".format(n_clusters)),\n",
    "#                  fontsize=14, fontweight='bold')\n",
    "#     message = \"For n_clusters = {} The average silhouette_score is: {}\"\n",
    "#     print(message.format(n_clusters, round(silhouette_score(X, y), 2)))"
   ]
  },
  {
   "cell_type": "code",
   "execution_count": 122,
   "metadata": {},
   "outputs": [
    {
     "ename": "NameError",
     "evalue": "name 'silhouette_plot' is not defined",
     "output_type": "error",
     "traceback": [
      "\u001b[1;31m---------------------------------------------------------------------------\u001b[0m",
      "\u001b[1;31mNameError\u001b[0m                                 Traceback (most recent call last)",
      "\u001b[1;32m<ipython-input-122-4eb1bd2c5e8a>\u001b[0m in \u001b[0;36m<module>\u001b[1;34m\u001b[0m\n\u001b[1;32m----> 1\u001b[1;33m \u001b[0maxs\u001b[0m\u001b[1;33m[\u001b[0m\u001b[1;36m0\u001b[0m\u001b[1;33m]\u001b[0m \u001b[1;33m=\u001b[0m \u001b[0msilhouette_plot\u001b[0m\u001b[1;33m(\u001b[0m\u001b[0mPCs_3d\u001b[0m\u001b[1;33m,\u001b[0m \u001b[0mclusters_PCA_3d\u001b[0m\u001b[1;33m,\u001b[0m \u001b[0mn_clusters\u001b[0m\u001b[1;33m=\u001b[0m\u001b[1;36m3\u001b[0m\u001b[1;33m,\u001b[0m \u001b[0max\u001b[0m\u001b[1;33m=\u001b[0m\u001b[0max1\u001b[0m\u001b[1;33m)\u001b[0m\u001b[1;33m\u001b[0m\u001b[1;33m\u001b[0m\u001b[0m\n\u001b[0m",
      "\u001b[1;31mNameError\u001b[0m: name 'silhouette_plot' is not defined"
     ]
    }
   ],
   "source": [
    "axs[0] = silhouette_plot(PCs_3d, clusters_PCA_3d, n_clusters=3, ax=ax1)"
   ]
  },
  {
   "cell_type": "markdown",
   "metadata": {},
   "source": [
    "### Without Dimensionality Reduction"
   ]
  },
  {
   "cell_type": "code",
   "execution_count": 176,
   "metadata": {},
   "outputs": [],
   "source": [
    "X_sub = pd.DataFrame(np.array(X.sample(RAND_SAMPLE_SIZE*20)))\n",
    "X_sub.columns = X.columns"
   ]
  },
  {
   "cell_type": "code",
   "execution_count": 177,
   "metadata": {},
   "outputs": [],
   "source": [
    "kmeans_sub = KMeans(n_clusters=7)"
   ]
  },
  {
   "cell_type": "code",
   "execution_count": 178,
   "metadata": {},
   "outputs": [
    {
     "data": {
      "text/plain": [
       "KMeans(n_clusters=7)"
      ]
     },
     "execution_count": 178,
     "metadata": {},
     "output_type": "execute_result"
    }
   ],
   "source": [
    "kmeans_sub.fit(X_sub)"
   ]
  },
  {
   "cell_type": "code",
   "execution_count": 179,
   "metadata": {},
   "outputs": [],
   "source": [
    "clusters_sub = kmeans_sub.predict(X_sub)"
   ]
  },
  {
   "cell_type": "code",
   "execution_count": 183,
   "metadata": {},
   "outputs": [
    {
     "data": {
      "text/plain": [
       "0.12762574976124327"
      ]
     },
     "execution_count": 183,
     "metadata": {},
     "output_type": "execute_result"
    }
   ],
   "source": [
    "score_sub = silhouette_score(X_sub, kmeans_sub.labels_, metric='euclidean')\n",
    "score_sub"
   ]
  },
  {
   "cell_type": "code",
   "execution_count": 182,
   "metadata": {},
   "outputs": [
    {
     "data": {
      "image/png": "[encoded data removed]",
      "text/plain": [
       "<Figure size 576x396 with 1 Axes>"
      ]
     },
     "metadata": {},
     "output_type": "display_data"
    },
    {
     "data": {
      "text/plain": [
       "<AxesSubplot:title={'center':'Silhouette Plot of KMeans Clustering for 20000 Samples in 7 Centers'}, xlabel='silhouette coefficient values', ylabel='cluster label'>"
      ]
     },
     "execution_count": 182,
     "metadata": {},
     "output_type": "execute_result"
    }
   ],
   "source": [
    "visualizer = SilhouetteVisualizer(kmeans_sub, colors='yellowbrick')\n",
    "visualizer.fit(X_sub)        # Fit the data to the visualizer\n",
    "visualizer.show()        "
   ]
  },
  {
   "cell_type": "code",
   "execution_count": null,
   "metadata": {},
   "outputs": [],
   "source": []
  }
 ],
 "metadata": {
  "kernelspec": {
   "display_name": "MScDM2020",
   "language": "python",
   "name": "mscdm2020"
  },
  "language_info": {
   "codemirror_mode": {
    "name": "ipython",
    "version": 3
   },
   "file_extension": ".py",
   "mimetype": "text/x-python",
   "name": "python",
   "nbconvert_exporter": "python",
   "pygments_lexer": "ipython3",
   "version": "3.7.1"
  }
 },
 "nbformat": 4,
 "nbformat_minor": 4
}
